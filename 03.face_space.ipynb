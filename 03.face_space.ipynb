{
 "cells": [
  {
   "cell_type": "code",
   "execution_count": 35,
   "metadata": {},
   "outputs": [],
   "source": [
    "import numpy as np\n",
    "from eigenface.yalefaces import YaleFaceDb\n",
    "from eigenface.eigenfaces import calculate_eigen_faces\n",
    "from eigenface.eigenfaces import gen_images\n",
    "np.set_printoptions(precision=2, suppress=True, formatter={'float': '{: 0.2f}'.format}, linewidth=1000)"
   ]
  },
  {
   "cell_type": "code",
   "execution_count": 36,
   "metadata": {},
   "outputs": [],
   "source": [
    "db = YaleFaceDb()\n",
    "images = gen_images()\n",
    "# images = db.get_list().astype(dtype=np.float)\n",
    "labels = db.get_label()"
   ]
  },
  {
   "cell_type": "code",
   "execution_count": 37,
   "metadata": {},
   "outputs": [],
   "source": [
    "(mean_images, eigen_faces), (vector_mean_matrix, mean_vector, eigen_value, norm_ui) = calculate_eigen_faces(images)"
   ]
  },
  {
   "cell_type": "code",
   "execution_count": 159,
   "metadata": {},
   "outputs": [
    {
     "name": "stdout",
     "output_type": "stream",
     "text": [
      "[array([-0.43,  1.43]), array([-2.01, -0.92]), array([ 2.44, -0.51])]\n"
     ]
    }
   ],
   "source": [
    "def get_weight(face_vector, mean_vector, norm_ui, size):\n",
    "    theta = face_vector - mean_vector\n",
    "    return np.matmul(norm_ui[:size], theta)\n",
    "\n",
    "def find_size(eigen_value, percent = 0.9):\n",
    "    total = eigen_value.sum()\n",
    "    for i in range(len(eigen_value)):\n",
    "        size = i + 1\n",
    "        cur  = eigen_value[:size].sum()\n",
    "        if cur/float(total)>=percent:\n",
    "            return size\n",
    "    return len(eigen_value)\n",
    "\n",
    "def get_all_weight(images, mean_vector, norm_ui, size):\n",
    "    w = [get_weight(images[i,:,:].flatten(), mean_vector, norm_ui, size)for i in range(images.shape[0])]\n",
    "    return w\n",
    "\n",
    "def distance_classify(w, weights):\n",
    "    diff = weights - w\n",
    "    norms = np.linalg.norm(diff, axis=1)\n",
    "    closest_face_id = np.argmin(norms)\n",
    "    return closest_face_id\n",
    "\n",
    "size = find_size(eigen_value)\n",
    "w = get_all_weight(images, mean_vector, norm_ui, size)\n",
    "print(w)"
   ]
  },
  {
   "cell_type": "code",
   "execution_count": 161,
   "metadata": {},
   "outputs": [
    {
     "name": "stdout",
     "output_type": "stream",
     "text": [
      "2\n"
     ]
    }
   ],
   "source": [
    "x = np.array([2.44, -0.51])\n",
    "print(distance_classify(x, w))"
   ]
  }
 ],
 "metadata": {
  "kernelspec": {
   "display_name": "Python 3",
   "language": "python",
   "name": "python3"
  },
  "language_info": {
   "codemirror_mode": {
    "name": "ipython",
    "version": 3
   },
   "file_extension": ".py",
   "mimetype": "text/x-python",
   "name": "python",
   "nbconvert_exporter": "python",
   "pygments_lexer": "ipython3",
   "version": "3.5.4"
  }
 },
 "nbformat": 4,
 "nbformat_minor": 2
}
