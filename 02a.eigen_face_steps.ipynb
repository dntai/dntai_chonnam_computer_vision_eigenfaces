{
 "cells": [
  {
   "cell_type": "code",
   "execution_count": 1,
   "metadata": {},
   "outputs": [],
   "source": [
    "import matplotlib.pyplot as plt\n",
    "import numpy as np\n",
    "from eigenface.yalefaces import YaleFaceDb\n",
    "np.set_printoptions(precision=2, suppress=True, formatter={'float': '{: 0.2f}'.format}, linewidth=1000)"
   ]
  },
  {
   "cell_type": "code",
   "execution_count": 2,
   "metadata": {},
   "outputs": [
    {
     "name": "stdout",
     "output_type": "stream",
     "text": [
      "[[[ 255.00  255.00  255.00 ...,  255.00  255.00  255.00]\n",
      "  [ 255.00  255.00  255.00 ...,  255.00  255.00  255.00]\n",
      "  [ 255.00  255.00  255.00 ...,  255.00  255.00  255.00]\n",
      "  ..., \n",
      "  [ 255.00  255.00  255.00 ...,  255.00  255.00  255.00]\n",
      "  [ 255.00  255.00  255.00 ...,  255.00  255.00  255.00]\n",
      "  [ 255.00  255.00  255.00 ...,  255.00  255.00  255.00]]\n",
      "\n",
      " [[ 255.00  255.00  255.00 ...,  255.00  255.00  255.00]\n",
      "  [ 255.00  255.00  255.00 ...,  255.00  255.00  255.00]\n",
      "  [ 255.00  255.00  255.00 ...,  255.00  255.00  255.00]\n",
      "  ..., \n",
      "  [ 255.00  255.00  255.00 ...,  254.00  255.00  255.00]\n",
      "  [ 255.00  255.00  255.00 ...,  253.00  240.00  240.00]\n",
      "  [ 255.00  255.00  255.00 ...,  255.00  254.00  252.00]]\n",
      "\n",
      " [[ 255.00  255.00  255.00 ...,  255.00  255.00  255.00]\n",
      "  [ 255.00  255.00  255.00 ...,  255.00  255.00  255.00]\n",
      "  [ 255.00  255.00  255.00 ...,  255.00  255.00  255.00]\n",
      "  ..., \n",
      "  [ 255.00  255.00  254.00 ...,  247.00  250.00  255.00]\n",
      "  [ 255.00  255.00  255.00 ...,  243.00  242.00  254.00]\n",
      "  [ 255.00  255.00  255.00 ...,  255.00  255.00  252.00]]\n",
      "\n",
      " ..., \n",
      " [[ 255.00  255.00  255.00 ...,  255.00  255.00  255.00]\n",
      "  [ 255.00  255.00  255.00 ...,  255.00  255.00  255.00]\n",
      "  [ 255.00  255.00  255.00 ...,  255.00  255.00  255.00]\n",
      "  ..., \n",
      "  [ 254.00  254.00  253.00 ...,  221.00  220.00  231.00]\n",
      "  [ 255.00  255.00  255.00 ...,  117.00  162.00  190.00]\n",
      "  [ 255.00  225.00  200.00 ...,  27.00  40.00  101.00]]\n",
      "\n",
      " [[ 255.00  255.00  255.00 ...,  255.00  255.00  255.00]\n",
      "  [ 255.00  255.00  255.00 ...,  255.00  255.00  255.00]\n",
      "  [ 255.00  255.00  255.00 ...,  255.00  255.00  255.00]\n",
      "  ..., \n",
      "  [ 255.00  242.00  202.00 ...,  217.00  220.00  219.00]\n",
      "  [ 255.00  250.00  253.00 ...,  241.00  248.00  216.00]\n",
      "  [ 251.00  243.00  251.00 ...,  139.00  222.00  223.00]]\n",
      "\n",
      " [[ 255.00  255.00  255.00 ...,  255.00  255.00  255.00]\n",
      "  [ 255.00  255.00  255.00 ...,  255.00  255.00  255.00]\n",
      "  [ 255.00  255.00  255.00 ...,  255.00  255.00  255.00]\n",
      "  ..., \n",
      "  [ 254.00  254.00  254.00 ...,  253.00  254.00  254.00]\n",
      "  [ 255.00  255.00  255.00 ...,  255.00  255.00  255.00]\n",
      "  [ 255.00  255.00  255.00 ...,  255.00  255.00  255.00]]]\n"
     ]
    },
    {
     "data": {
      "text/plain": [
       "(165, 100, 100, 1)"
      ]
     },
     "execution_count": 2,
     "metadata": {},
     "output_type": "execute_result"
    }
   ],
   "source": [
    "db = YaleFaceDb()\n",
    "\n",
    "def gen_images():\n",
    "    images = np.empty(shape=(3,4,4))\n",
    "    images[0,:,:] = np.array([[1,2,3,4],[5,6,7,8],[5,6,7,8],[5,6,7,8]])\n",
    "    images[1,:,:] = np.array([[2,3,4,5],[6,7,8,9],[5,6,7,8],[5,6,7,8]])\n",
    "    images[2,:,:] = np.array([[0,2,4,6],[3,5,7,9],[5,6,7,8],[5,6,7,8]])\n",
    "    return images\n",
    "# images = gen_images().astype(dtype=np.float)\n",
    "images = db.get_list().astype(dtype=np.float)\n",
    "labels = db.get_label()\n",
    "print(images[:,:,:,0])\n",
    "images.shape"
   ]
  },
  {
   "cell_type": "code",
   "execution_count": 3,
   "metadata": {},
   "outputs": [
    {
     "name": "stdout",
     "output_type": "stream",
     "text": [
      "[[ 255.00  255.00  255.00 ...,  255.00  255.00  255.00]\n",
      " [ 255.00  255.00  255.00 ...,  255.00  254.00  252.00]\n",
      " [ 255.00  255.00  255.00 ...,  255.00  255.00  252.00]\n",
      " ..., \n",
      " [ 255.00  255.00  255.00 ...,  27.00  40.00  101.00]\n",
      " [ 255.00  255.00  255.00 ...,  139.00  222.00  223.00]\n",
      " [ 255.00  255.00  255.00 ...,  255.00  255.00  255.00]]\n",
      "(165, 10000)\n"
     ]
    }
   ],
   "source": [
    "# M traiing images with width NxN\n",
    "# ==> np.array with N^2 row (number of pixels), M column (number of images)\n",
    "def convert_matrix_presentation(images): \n",
    "    vector2d = []\n",
    "    for image in images:\n",
    "        vector = image.flatten()\n",
    "        vector2d.append(vector)\n",
    "    return np.array(vector2d)\n",
    "\n",
    "def test_matrix_presentation():\n",
    "    return convert_matrix_presentation(images)\n",
    "vector_matrix = test_matrix_presentation()\n",
    "print(vector_matrix)\n",
    "print(vector_matrix.shape)"
   ]
  },
  {
   "cell_type": "code",
   "execution_count": 4,
   "metadata": {},
   "outputs": [
    {
     "name": "stdout",
     "output_type": "stream",
     "text": [
      "[ 248.67  248.90  248.86 ...,  209.83  212.42  214.73]\n",
      "(10000,)\n"
     ]
    }
   ],
   "source": [
    "mean_vector = vector_matrix.mean(axis=0)\n",
    "print(mean_vector)\n",
    "print(mean_vector.shape)"
   ]
  },
  {
   "cell_type": "code",
   "execution_count": 5,
   "metadata": {},
   "outputs": [
    {
     "name": "stdout",
     "output_type": "stream",
     "text": [
      "[[ 6.33  6.10  6.14 ...,  45.17  42.58  40.27]\n",
      " [ 6.33  6.10  6.14 ...,  45.17  41.58  37.27]\n",
      " [ 6.33  6.10  6.14 ...,  45.17  42.58  37.27]\n",
      " ..., \n",
      " [ 6.33  6.10  6.14 ..., -182.83 -172.42 -113.73]\n",
      " [ 6.33  6.10  6.14 ..., -70.83  9.58  8.27]\n",
      " [ 6.33  6.10  6.14 ...,  45.17  42.58  40.27]]\n"
     ]
    }
   ],
   "source": [
    "vector_mean_matrix = vector_matrix[:,:] - mean_vector\n",
    "print(vector_mean_matrix)    "
   ]
  },
  {
   "cell_type": "code",
   "execution_count": 6,
   "metadata": {},
   "outputs": [
    {
     "name": "stdout",
     "output_type": "stream",
     "text": [
      "(165, 165)\n",
      "[[ 29355065.79  8846414.05  9457439.14 ...,  581126.85  2089275.27  566094.10]\n",
      " [ 8846414.05  25373990.32  20047641.41 ..., -2797640.88 -3135223.47 -2588681.63]\n",
      " [ 9457439.14  20047641.41  25803591.49 ..., -847127.80  72573.62 -918147.55]\n",
      " ..., \n",
      " [ 581126.85 -2797640.88 -847127.80 ...,  42143862.91  32331982.33  21220256.16]\n",
      " [ 2089275.27 -3135223.47  72573.62 ...,  32331982.33  37888239.75  16034989.58]\n",
      " [ 566094.10 -2588681.63 -918147.55 ...,  21220256.16  16034989.58  32993349.42]]\n"
     ]
    }
   ],
   "source": [
    "covariance_matrix = np.matmul(vector_mean_matrix,vector_mean_matrix.T) # vector_matrix: [M x N^2], [N^2 x M]\n",
    "print(covariance_matrix.shape)\n",
    "print(covariance_matrix)"
   ]
  },
  {
   "cell_type": "code",
   "execution_count": 7,
   "metadata": {},
   "outputs": [
    {
     "name": "stdout",
     "output_type": "stream",
     "text": [
      "u: (165, 165) \n",
      " [[-0.06 -0.04  0.02 ...,  0.00  0.00 -0.08]\n",
      " [ 0.03  0.05  0.02 ...,  0.00  0.00 -0.08]\n",
      " [ 0.03  0.03  0.00 ...,  0.00  0.00 -0.08]\n",
      " ..., \n",
      " [ 0.04 -0.07  0.08 ...,  0.00  0.00 -0.08]\n",
      " [ 0.04 -0.07  0.04 ...,  0.00  0.00 -0.08]\n",
      " [ 0.05 -0.09  0.11 ...,  0.00  0.00 -0.08]]\n",
      "eigen_value:\n",
      " [ 1074499909.05  973989965.73  693086965.82  399710027.64  386363173.15  302872688.11  209279720.03  175909285.61  165649976.23  149171665.13  106904267.45  90754574.39  87866296.75  71088229.54  68655806.82  60034178.42  54869315.64  50539741.98  46887487.60  42990051.59  39717196.34  35311270.39  34133329.77  31080906.45  30053068.74  26726897.74  25294861.75  24505229.78  22983859.95  21034703.55  19470256.57  19191522.73  18552881.48  18266870.14  17730969.39  15954557.10  15873291.93  15292365.51  14847125.08  14079771.34  13603773.02  12983509.38  12736208.04  12402508.39  12011170.10  11569833.06  11232281.16  10834015.43  10563322.85  10248733.54  9920553.08  9650929.96  9474144.34  9353144.04  8888314.30  8825490.39  8643055.11  8274901.87  8124786.09  8094803.37  7879679.56  7728754.57  7441804.10  7265305.01  7128291.52  6890586.85  6763250.52  6681663.81  6616951.18  6287787.50  6118877.59  5992054.05  5927246.57  5848862.88  5657538.71  5560057.11  5525812.36  5310402.82\n",
      "  5159310.30  5084672.34  4940174.67  4776120.35  4691205.32  4616503.28  4518791.45  4455352.06  4338841.37  4314184.80  4196711.60  4121028.90  4013185.97  3942299.12  3927863.60  3872856.00  3838074.81  3768218.14  3671514.27  3584386.45  3513458.09  3427830.15  3375688.40  3312523.01  3269206.61  3194534.44  3138237.55  3093824.94  2991027.28  2898380.82  2834371.04  2806167.96  2715217.76  2674371.07  2659803.46  2619371.72  2585551.43  2505697.13  2430801.15  2375356.81  2333842.39  2305832.42  2251098.61  2195474.83  2190817.37  2119226.33  2057594.33  2032218.53  1966208.46  1947065.88  1915354.68  1856582.02  1779319.59  1753238.38  1728707.51  1647079.01  1626654.17  1563832.00  1550970.38  1515835.37  1436430.28  1353320.18  1326324.85  1317777.82  1252639.29  1231506.99  1155585.77  1103175.17  1098030.00  1036772.37  1022526.72  996080.62  860517.73  797158.42  646225.00  608924.94  518121.00  459245.55  327328.57  285587.09  251086.08  189486.02  0.00  0.00  0.00  0.00\n",
      "  0.00]\n",
      "eigen_vector_vi:  (165, 165) \n",
      " [[-0.06  0.03  0.03 ...,  0.04  0.04  0.05]\n",
      " [-0.04  0.05  0.03 ..., -0.07 -0.07 -0.09]\n",
      " [ 0.02  0.02  0.00 ...,  0.08  0.04  0.11]\n",
      " ..., \n",
      " [ 0.00 -0.00  0.00 ..., -0.00 -0.00 -0.00]\n",
      " [ 0.00 -0.00 -0.00 ..., -0.00 -0.00 -0.00]\n",
      " [-0.08 -0.08 -0.08 ..., -0.08 -0.08 -0.08]]\n"
     ]
    }
   ],
   "source": [
    "u, eigen_value, eigen_vector_vi = np.linalg.svd(covariance_matrix)\n",
    "print(\"u:\", u.shape, \"\\n\", u)\n",
    "print(\"eigen_value:\\n\", eigen_value)\n",
    "print(\"eigen_vector_vi: \", eigen_vector_vi.shape, \"\\n\", eigen_vector_vi)"
   ]
  },
  {
   "cell_type": "code",
   "execution_count": 8,
   "metadata": {},
   "outputs": [
    {
     "name": "stdout",
     "output_type": "stream",
     "text": [
      "Check Eigen Properties Wx = rx:\n",
      "Wx: [-62514077.58  29641461.92  33867343.71 -195682964.92  43701962.63  27569130.16 -49524581.98  46677629.70  26007928.31  37894725.74 -5700232.67  70409807.06 -405493.47  6219390.71 -128921566.32  9095260.17  11468947.84  45136516.92  2176159.12  13484645.40  14549411.65 -27660545.50 -12868614.17  58846301.50  49812362.74 -169446549.04  59180043.20  55128791.78 -27837926.01  45226118.68  43526498.93  64011775.56 -293730.66  35448190.47  38463314.22  36698934.64 -145113586.84  26380499.95  23939644.89 -42689393.73  25561252.15  36819060.83  16014905.84 -643637.58  27318710.57  75315571.95  68850246.66 -118920956.29  71931269.47  73016566.02 -23353234.10  60918624.13  59997146.90  75798507.33  68805967.01 -56624271.99 -77832838.66 -40495890.81 -173440394.13 -47804314.13 -47804314.13 -54907167.78 -61942895.68 -62980979.45 -67161044.10 -73552633.18  34289370.25  84626778.05  93046997.69 -165200708.85  64191878.75  64191878.75  8631089.23  83970841.97  73124905.84  76588972.28  40718640.59\n",
      "  64446837.28  28256621.50  64620596.47 -141553928.33  46116786.13  22975904.66 -23609906.41  46904041.97  62880944.90  57238597.77  58502688.97  114728541.22  95683183.31  88346959.38 -117198928.73  71208942.31  71208942.31  56619633.60  66225050.77  52964770.84  88653501.51  29071765.69 -30183778.98  24852489.15  8128360.04 -133571100.39  13610620.02  4875297.87  4117557.79  16718182.75  10877998.80  16306535.51 -19458379.84 -223269060.87 -175746266.36 -206657526.17 -281681734.94 -180359870.19 -188080432.90 -197296448.48 -197238088.04 -206829840.74 -139899147.68 -208114036.04  2223006.50 -1174616.89  5189816.21 -120012380.45 -17208222.62 -17208222.62  48305568.39 -17171592.50 -20635945.54 -4071782.46 -20141992.92  95111990.58  101343184.52  99128265.03 -115815463.84  94665858.82  97977924.05  51811388.36  95008133.32  84223298.15  95922083.42  93127873.16  42543242.43  25827133.49  47409051.19 -153071227.40  13012637.01  13471143.72  17345938.44  27704767.56  19675197.71  39396991.56\n",
      "  14573830.44  43016134.71  56745566.52  70993865.57 -176335605.10  47028808.85  76074210.49  24841363.43  65886361.41  42027458.86  40824143.77  58050501.14]\n",
      "rx: [-62514077.58  29641461.92  33867343.71 -195682964.92  43701962.63  27569130.16 -49524581.98  46677629.70  26007928.31  37894725.74 -5700232.67  70409807.06 -405493.47  6219390.71 -128921566.32  9095260.17  11468947.84  45136516.92  2176159.12  13484645.40  14549411.65 -27660545.50 -12868614.17  58846301.50  49812362.74 -169446549.04  59180043.20  55128791.78 -27837926.01  45226118.68  43526498.93  64011775.56 -293730.66  35448190.47  38463314.22  36698934.64 -145113586.84  26380499.95  23939644.89 -42689393.73  25561252.15  36819060.83  16014905.84 -643637.58  27318710.57  75315571.95  68850246.66 -118920956.29  71931269.47  73016566.02 -23353234.10  60918624.13  59997146.90  75798507.33  68805967.01 -56624271.99 -77832838.66 -40495890.81 -173440394.13 -47804314.13 -47804314.13 -54907167.78 -61942895.68 -62980979.45 -67161044.10 -73552633.18  34289370.25  84626778.05  93046997.69 -165200708.85  64191878.75  64191878.75  8631089.23  83970841.97  73124905.84  76588972.28  40718640.59\n",
      "  64446837.28  28256621.50  64620596.47 -141553928.33  46116786.13  22975904.66 -23609906.41  46904041.97  62880944.90  57238597.77  58502688.97  114728541.22  95683183.31  88346959.38 -117198928.73  71208942.31  71208942.31  56619633.60  66225050.77  52964770.84  88653501.51  29071765.69 -30183778.98  24852489.15  8128360.04 -133571100.39  13610620.02  4875297.87  4117557.79  16718182.75  10877998.80  16306535.51 -19458379.84 -223269060.87 -175746266.36 -206657526.17 -281681734.94 -180359870.19 -188080432.90 -197296448.48 -197238088.04 -206829840.74 -139899147.68 -208114036.04  2223006.50 -1174616.89  5189816.21 -120012380.45 -17208222.62 -17208222.62  48305568.39 -17171592.50 -20635945.54 -4071782.46 -20141992.92  95111990.58  101343184.52  99128265.03 -115815463.84  94665858.82  97977924.05  51811388.36  95008133.32  84223298.15  95922083.42  93127873.16  42543242.43  25827133.49  47409051.19 -153071227.40  13012637.01  13471143.72  17345938.44  27704767.56  19675197.71  39396991.56\n",
      "  14573830.44  43016134.71  56745566.52  70993865.57 -176335605.10  47028808.85  76074210.49  24841363.43  65886361.41  42027458.86  40824143.77  58050501.14]\n"
     ]
    }
   ],
   "source": [
    "# Check Covar.x = r.x\n",
    "print('Check Eigen Properties Wx = rx:')\n",
    "print('Wx:', np.matmul(covariance_matrix, eigen_vector_vi[0,:]))\n",
    "print('rx:', eigen_value[0] * eigen_vector_vi[0,:])"
   ]
  },
  {
   "cell_type": "code",
   "execution_count": 9,
   "metadata": {},
   "outputs": [
    {
     "name": "stdout",
     "output_type": "stream",
     "text": [
      "[ 2.67 -1.35 -1.73 ...,  415.28  397.83  415.44]\n"
     ]
    }
   ],
   "source": [
    "eigen_vector_u0 = np.matmul(vector_mean_matrix.T, eigen_vector_vi[0,:])\n",
    "print(eigen_vector_u0)"
   ]
  },
  {
   "cell_type": "code",
   "execution_count": 10,
   "metadata": {},
   "outputs": [
    {
     "name": "stdout",
     "output_type": "stream",
     "text": [
      "[[ 2.67 -1.35 -1.73 ...,  415.28  397.83  415.44]\n",
      " [ 53.18  50.94  51.45 ..., -276.83 -274.72 -262.91]\n",
      " [ 108.12  106.08  102.10 ..., -71.50 -81.29 -65.64]\n",
      " ..., \n",
      " [ 0.00  0.00  0.00 ..., -0.00 -0.00  0.00]\n",
      " [ 0.00  0.00  0.00 ..., -0.00 -0.00 -0.00]\n",
      " [-0.00 -0.00 -0.00 ..., -0.00 -0.00 -0.00]]\n"
     ]
    }
   ],
   "source": [
    "eigen_vector_ui = np.matmul(vector_mean_matrix.T, eigen_vector_vi[:,:].T).T\n",
    "print(eigen_vector_ui)"
   ]
  },
  {
   "cell_type": "code",
   "execution_count": 11,
   "metadata": {},
   "outputs": [
    {
     "name": "stdout",
     "output_type": "stream",
     "text": [
      "Check Eigen Properties Wx = rx:\n",
      "Wx: [ 2869581037.27 -1448751383.92 -1861773809.08 ...,  446218945567.74  427472261589.23  446387845044.23]\n",
      "rx: [ 2869581037.27 -1448751383.92 -1861773809.08 ...,  446218945567.74  427472261589.22  446387845044.23]\n"
     ]
    }
   ],
   "source": [
    "print('Check Eigen Properties Wx = rx:')\n",
    "print('Wx:', np.matmul(np.matmul(vector_mean_matrix.T,vector_mean_matrix), eigen_vector_ui[0,:]))\n",
    "print('rx:', eigen_value[0] * eigen_vector_ui[0,:])"
   ]
  },
  {
   "cell_type": "code",
   "execution_count": 12,
   "metadata": {},
   "outputs": [
    {
     "name": "stdout",
     "output_type": "stream",
     "text": [
      "[ 32779.57  31208.81  26326.54  19992.75  19656.12  17403.24  14466.50  13263.08  12870.51  12213.59  10339.45  9526.52  9373.70  8431.38  8285.88  7748.17  7407.38  7109.13  6847.44  6556.68  6302.16  5942.33  5842.37  5575.03  5482.07  5169.81  5029.40  4950.28  4794.15  4586.36  4412.51  4380.81  4307.31  4273.98  4210.82  3994.32  3984.13  3910.55  3853.20  3752.30  3688.33  3603.26  3568.78  3521.72  3465.71  3401.45  3351.46  3291.51  3250.13  3201.36  3149.69  3106.59  3078.01  3058.29  2981.33  2970.77  2939.91  2876.61  2850.40  2845.14  2807.08  2780.06  2727.97  2695.42  2669.89  2624.99  2600.63  2584.89  2572.34  2507.55  2473.64  2447.87  2434.59  2418.44  2378.56  2357.98  2350.70  2304.43  2271.41  2254.92  2222.65  2185.43  2165.92  2148.60  2125.74  2110.77  2082.99  2077.06  2048.59  2030.03  2003.29  1985.52  1981.88  1967.96  1959.10  1941.19  1916.12  1893.25  1874.42  1851.44  1837.30  1820.03  1808.09  1787.33  1771.51  1758.93  1729.46  1702.46  1683.56\n",
      "  1675.16  1647.79  1635.35  1630.89  1618.45  1607.96  1582.94  1559.10  1541.22  1527.69  1518.50  1500.37  1481.71  1480.14  1455.76  1434.43  1425.56  1402.22  1395.37  1383.96  1362.56  1333.91  1324.10  1314.80  1283.39  1275.40  1250.53  1245.38  1231.19  1198.51  1163.32  1151.66  1147.95  1119.21  1109.73  1074.98  1050.32  1047.87  1018.22  1011.20  998.04  927.64  892.84  803.88  780.34  719.81  677.68  572.13  534.40  501.08  435.30  0.00  0.00  0.00  0.00  0.00]\n"
     ]
    }
   ],
   "source": [
    "norms = np.linalg.norm(eigen_vector_ui, axis=1)\n",
    "print(norms)"
   ]
  },
  {
   "cell_type": "code",
   "execution_count": 13,
   "metadata": {},
   "outputs": [
    {
     "name": "stdout",
     "output_type": "stream",
     "text": [
      "[[ 0.00 -0.00 -0.00 ...,  0.01  0.01  0.01]\n",
      " [ 0.00  0.00  0.00 ..., -0.01 -0.01 -0.01]\n",
      " [ 0.00  0.00  0.00 ..., -0.00 -0.00 -0.00]\n",
      " ..., \n",
      " [ 0.01  0.01  0.01 ..., -0.00 -0.00  0.00]\n",
      " [ 0.00  0.00  0.00 ..., -0.01 -0.00 -0.01]\n",
      " [-0.02 -0.01 -0.01 ..., -0.00 -0.01 -0.01]]\n"
     ]
    },
    {
     "data": {
      "text/plain": [
       "1.0000000000000036"
      ]
     },
     "execution_count": 13,
     "metadata": {},
     "output_type": "execute_result"
    }
   ],
   "source": [
    "norm_ui = np.divide(eigen_vector_ui.T, norms).T\n",
    "print(norm_ui)\n",
    "(norm_ui[2]*norm_ui[2]).sum()"
   ]
  },
  {
   "cell_type": "code",
   "execution_count": 14,
   "metadata": {},
   "outputs": [
    {
     "name": "stdout",
     "output_type": "stream",
     "text": [
      "Eigen Faces:\n",
      " [[[ 0.00 -0.00 -0.00 ...,  0.00  0.00  0.00]\n",
      "  [ 0.00  0.00  0.00 ...,  0.00  0.00  0.00]\n",
      "  [ 0.00  0.00  0.00 ...,  0.00  0.00  0.00]\n",
      "  ..., \n",
      "  [ 0.00  0.00  0.00 ...,  0.02  0.02  0.02]\n",
      "  [ 0.00  0.00  0.00 ...,  0.01  0.01  0.01]\n",
      "  [ 0.01  0.01  0.01 ...,  0.01  0.01  0.01]]\n",
      "\n",
      " [[ 0.00  0.00  0.00 ...,  0.00  0.00  0.00]\n",
      "  [ 0.00  0.00  0.00 ...,  0.00  0.00  0.00]\n",
      "  [ 0.00  0.00  0.00 ...,  0.00  0.00  0.00]\n",
      "  ..., \n",
      "  [ 0.00  0.00  0.00 ..., -0.01 -0.01 -0.00]\n",
      "  [ 0.00  0.00  0.00 ..., -0.01 -0.01 -0.01]\n",
      "  [ 0.00  0.00  0.00 ..., -0.01 -0.01 -0.01]]\n",
      "\n",
      " [[ 0.00  0.00  0.00 ..., -0.00 -0.00 -0.00]\n",
      "  [ 0.01  0.00  0.00 ..., -0.00 -0.00 -0.00]\n",
      "  [ 0.01  0.01  0.01 ..., -0.00 -0.00 -0.00]\n",
      "  ..., \n",
      "  [ 0.01  0.01  0.01 ..., -0.01 -0.01 -0.00]\n",
      "  [ 0.01  0.01  0.01 ..., -0.00 -0.00 -0.00]\n",
      "  [ 0.01  0.01  0.01 ..., -0.00 -0.00 -0.00]]\n",
      "\n",
      " ..., \n",
      " [[ 0.01  0.01  0.01 ..., -0.01 -0.00 -0.00]\n",
      "  [ 0.00  0.00  0.00 ..., -0.00 -0.00 -0.00]\n",
      "  [ 0.01  0.01  0.01 ..., -0.00 -0.00 -0.00]\n",
      "  ..., \n",
      "  [ 0.01  0.01  0.01 ..., -0.02 -0.01 -0.00]\n",
      "  [ 0.01  0.00 -0.00 ..., -0.00 -0.00 -0.01]\n",
      "  [ 0.01  0.01  0.01 ..., -0.00 -0.00  0.00]]\n",
      "\n",
      " [[ 0.00  0.00  0.00 ...,  0.02  0.01  0.01]\n",
      "  [ 0.00  0.00  0.00 ...,  0.01  0.01  0.01]\n",
      "  [ 0.01  0.01  0.01 ...,  0.01  0.01  0.01]\n",
      "  ..., \n",
      "  [-0.01 -0.01 -0.01 ..., -0.00  0.00  0.00]\n",
      "  [ 0.01  0.01  0.00 ..., -0.00  0.01  0.00]\n",
      "  [ 0.00  0.00  0.01 ..., -0.01 -0.00 -0.01]]\n",
      "\n",
      " [[-0.02 -0.01 -0.01 ...,  0.00 -0.00  0.00]\n",
      "  [ 0.00  0.01  0.00 ...,  0.01  0.00  0.00]\n",
      "  [ 0.00  0.00  0.00 ...,  0.01  0.00  0.00]\n",
      "  ..., \n",
      "  [-0.01 -0.01 -0.00 ...,  0.01  0.02 -0.00]\n",
      "  [-0.00 -0.00  0.00 ..., -0.01 -0.00 -0.00]\n",
      "  [ 0.02  0.01  0.01 ..., -0.00 -0.01 -0.01]]]\n"
     ]
    }
   ],
   "source": [
    "eigen_faces = norm_ui.reshape(images.shape)\n",
    "print(\"Eigen Faces:\\n\", eigen_faces[:,:,:,0])"
   ]
  },
  {
   "cell_type": "code",
   "execution_count": 15,
   "metadata": {},
   "outputs": [
    {
     "data": {
      "image/png": "[encoded data removed]",
      "text/plain": [
       "<matplotlib.figure.Figure at 0x2881c8f6908>"
      ]
     },
     "metadata": {},
     "output_type": "display_data"
    }
   ],
   "source": [
    "plt.imshow(eigen_faces[0,:,:,0].astype(dtype=np.float), cmap='gray')\n",
    "plt.title('%s - %s'%(labels[0,0],labels[0,1]))\n",
    "plt.show()"
   ]
  },
  {
   "cell_type": "code",
   "execution_count": 16,
   "metadata": {},
   "outputs": [
    {
     "data": {
      "image/png": "[encoded data removed]",
      "text/plain": [
       "<matplotlib.figure.Figure at 0x2881c8f6470>"
      ]
     },
     "metadata": {},
     "output_type": "display_data"
    }
   ],
   "source": [
    "mean_image = (mean_vector).reshape(images.shape[1], images.shape[2]).astype(dtype=np.uint8)\n",
    "plt.imshow(np.dstack([mean_image,mean_image,mean_image]))\n",
    "plt.show()"
   ]
  },
  {
   "cell_type": "code",
   "execution_count": null,
   "metadata": {},
   "outputs": [],
   "source": []
  }
 ],
 "metadata": {
  "kernelspec": {
   "display_name": "Python 3",
   "language": "python",
   "name": "python3"
  },
  "language_info": {
   "codemirror_mode": {
    "name": "ipython",
    "version": 3
   },
   "file_extension": ".py",
   "mimetype": "text/x-python",
   "name": "python",
   "nbconvert_exporter": "python",
   "pygments_lexer": "ipython3",
   "version": "3.5.4"
  }
 },
 "nbformat": 4,
 "nbformat_minor": 2
}
